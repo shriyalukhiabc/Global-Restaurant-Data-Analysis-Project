{
 "cells": [
  {
   "cell_type": "markdown",
   "id": "9df41b32-8dbc-4ae6-bdfc-27372d2b112f",
   "metadata": {},
   "source": [
    " **-->Loading the dataset**"
   ]
  },
  {
   "cell_type": "code",
   "execution_count": 21,
   "id": "d0c017c1-48da-4a9e-96fb-99cb4789e75b",
   "metadata": {},
   "outputs": [
    {
     "data": {
      "text/html": [
       "<div>\n",
       "<style scoped>\n",
       "    .dataframe tbody tr th:only-of-type {\n",
       "        vertical-align: middle;\n",
       "    }\n",
       "\n",
       "    .dataframe tbody tr th {\n",
       "        vertical-align: top;\n",
       "    }\n",
       "\n",
       "    .dataframe thead th {\n",
       "        text-align: right;\n",
       "    }\n",
       "</style>\n",
       "<table border=\"1\" class=\"dataframe\">\n",
       "  <thead>\n",
       "    <tr style=\"text-align: right;\">\n",
       "      <th></th>\n",
       "      <th>Restaurant ID</th>\n",
       "      <th>Restaurant Name</th>\n",
       "      <th>Country Code</th>\n",
       "      <th>City</th>\n",
       "      <th>Address</th>\n",
       "      <th>Locality</th>\n",
       "      <th>Locality Verbose</th>\n",
       "      <th>Longitude</th>\n",
       "      <th>Latitude</th>\n",
       "      <th>Cuisines</th>\n",
       "      <th>...</th>\n",
       "      <th>Currency</th>\n",
       "      <th>Has Table booking</th>\n",
       "      <th>Has Online delivery</th>\n",
       "      <th>Is delivering now</th>\n",
       "      <th>Switch to order menu</th>\n",
       "      <th>Price range</th>\n",
       "      <th>Aggregate rating</th>\n",
       "      <th>Rating color</th>\n",
       "      <th>Rating text</th>\n",
       "      <th>Votes</th>\n",
       "    </tr>\n",
       "  </thead>\n",
       "  <tbody>\n",
       "    <tr>\n",
       "      <th>0</th>\n",
       "      <td>6317637</td>\n",
       "      <td>Le Petit Souffle</td>\n",
       "      <td>162</td>\n",
       "      <td>Makati City</td>\n",
       "      <td>Third Floor, Century City Mall, Kalayaan Avenu...</td>\n",
       "      <td>Century City Mall, Poblacion, Makati City</td>\n",
       "      <td>Century City Mall, Poblacion, Makati City, Mak...</td>\n",
       "      <td>121.027535</td>\n",
       "      <td>14.565443</td>\n",
       "      <td>French, Japanese, Desserts</td>\n",
       "      <td>...</td>\n",
       "      <td>Botswana Pula(P)</td>\n",
       "      <td>Yes</td>\n",
       "      <td>No</td>\n",
       "      <td>No</td>\n",
       "      <td>No</td>\n",
       "      <td>3</td>\n",
       "      <td>4.8</td>\n",
       "      <td>Dark Green</td>\n",
       "      <td>Excellent</td>\n",
       "      <td>314</td>\n",
       "    </tr>\n",
       "    <tr>\n",
       "      <th>1</th>\n",
       "      <td>6304287</td>\n",
       "      <td>Izakaya Kikufuji</td>\n",
       "      <td>162</td>\n",
       "      <td>Makati City</td>\n",
       "      <td>Little Tokyo, 2277 Chino Roces Avenue, Legaspi...</td>\n",
       "      <td>Little Tokyo, Legaspi Village, Makati City</td>\n",
       "      <td>Little Tokyo, Legaspi Village, Makati City, Ma...</td>\n",
       "      <td>121.014101</td>\n",
       "      <td>14.553708</td>\n",
       "      <td>Japanese</td>\n",
       "      <td>...</td>\n",
       "      <td>Botswana Pula(P)</td>\n",
       "      <td>Yes</td>\n",
       "      <td>No</td>\n",
       "      <td>No</td>\n",
       "      <td>No</td>\n",
       "      <td>3</td>\n",
       "      <td>4.5</td>\n",
       "      <td>Dark Green</td>\n",
       "      <td>Excellent</td>\n",
       "      <td>591</td>\n",
       "    </tr>\n",
       "    <tr>\n",
       "      <th>2</th>\n",
       "      <td>6300002</td>\n",
       "      <td>Heat - Edsa Shangri-La</td>\n",
       "      <td>162</td>\n",
       "      <td>Mandaluyong City</td>\n",
       "      <td>Edsa Shangri-La, 1 Garden Way, Ortigas, Mandal...</td>\n",
       "      <td>Edsa Shangri-La, Ortigas, Mandaluyong City</td>\n",
       "      <td>Edsa Shangri-La, Ortigas, Mandaluyong City, Ma...</td>\n",
       "      <td>121.056831</td>\n",
       "      <td>14.581404</td>\n",
       "      <td>Seafood, Asian, Filipino, Indian</td>\n",
       "      <td>...</td>\n",
       "      <td>Botswana Pula(P)</td>\n",
       "      <td>Yes</td>\n",
       "      <td>No</td>\n",
       "      <td>No</td>\n",
       "      <td>No</td>\n",
       "      <td>4</td>\n",
       "      <td>4.4</td>\n",
       "      <td>Green</td>\n",
       "      <td>Very Good</td>\n",
       "      <td>270</td>\n",
       "    </tr>\n",
       "    <tr>\n",
       "      <th>3</th>\n",
       "      <td>6318506</td>\n",
       "      <td>Ooma</td>\n",
       "      <td>162</td>\n",
       "      <td>Mandaluyong City</td>\n",
       "      <td>Third Floor, Mega Fashion Hall, SM Megamall, O...</td>\n",
       "      <td>SM Megamall, Ortigas, Mandaluyong City</td>\n",
       "      <td>SM Megamall, Ortigas, Mandaluyong City, Mandal...</td>\n",
       "      <td>121.056475</td>\n",
       "      <td>14.585318</td>\n",
       "      <td>Japanese, Sushi</td>\n",
       "      <td>...</td>\n",
       "      <td>Botswana Pula(P)</td>\n",
       "      <td>No</td>\n",
       "      <td>No</td>\n",
       "      <td>No</td>\n",
       "      <td>No</td>\n",
       "      <td>4</td>\n",
       "      <td>4.9</td>\n",
       "      <td>Dark Green</td>\n",
       "      <td>Excellent</td>\n",
       "      <td>365</td>\n",
       "    </tr>\n",
       "    <tr>\n",
       "      <th>4</th>\n",
       "      <td>6314302</td>\n",
       "      <td>Sambo Kojin</td>\n",
       "      <td>162</td>\n",
       "      <td>Mandaluyong City</td>\n",
       "      <td>Third Floor, Mega Atrium, SM Megamall, Ortigas...</td>\n",
       "      <td>SM Megamall, Ortigas, Mandaluyong City</td>\n",
       "      <td>SM Megamall, Ortigas, Mandaluyong City, Mandal...</td>\n",
       "      <td>121.057508</td>\n",
       "      <td>14.584450</td>\n",
       "      <td>Japanese, Korean</td>\n",
       "      <td>...</td>\n",
       "      <td>Botswana Pula(P)</td>\n",
       "      <td>Yes</td>\n",
       "      <td>No</td>\n",
       "      <td>No</td>\n",
       "      <td>No</td>\n",
       "      <td>4</td>\n",
       "      <td>4.8</td>\n",
       "      <td>Dark Green</td>\n",
       "      <td>Excellent</td>\n",
       "      <td>229</td>\n",
       "    </tr>\n",
       "  </tbody>\n",
       "</table>\n",
       "<p>5 rows × 21 columns</p>\n",
       "</div>"
      ],
      "text/plain": [
       "   Restaurant ID         Restaurant Name  Country Code              City  \\\n",
       "0        6317637        Le Petit Souffle           162       Makati City   \n",
       "1        6304287        Izakaya Kikufuji           162       Makati City   \n",
       "2        6300002  Heat - Edsa Shangri-La           162  Mandaluyong City   \n",
       "3        6318506                    Ooma           162  Mandaluyong City   \n",
       "4        6314302             Sambo Kojin           162  Mandaluyong City   \n",
       "\n",
       "                                             Address  \\\n",
       "0  Third Floor, Century City Mall, Kalayaan Avenu...   \n",
       "1  Little Tokyo, 2277 Chino Roces Avenue, Legaspi...   \n",
       "2  Edsa Shangri-La, 1 Garden Way, Ortigas, Mandal...   \n",
       "3  Third Floor, Mega Fashion Hall, SM Megamall, O...   \n",
       "4  Third Floor, Mega Atrium, SM Megamall, Ortigas...   \n",
       "\n",
       "                                     Locality  \\\n",
       "0   Century City Mall, Poblacion, Makati City   \n",
       "1  Little Tokyo, Legaspi Village, Makati City   \n",
       "2  Edsa Shangri-La, Ortigas, Mandaluyong City   \n",
       "3      SM Megamall, Ortigas, Mandaluyong City   \n",
       "4      SM Megamall, Ortigas, Mandaluyong City   \n",
       "\n",
       "                                    Locality Verbose   Longitude   Latitude  \\\n",
       "0  Century City Mall, Poblacion, Makati City, Mak...  121.027535  14.565443   \n",
       "1  Little Tokyo, Legaspi Village, Makati City, Ma...  121.014101  14.553708   \n",
       "2  Edsa Shangri-La, Ortigas, Mandaluyong City, Ma...  121.056831  14.581404   \n",
       "3  SM Megamall, Ortigas, Mandaluyong City, Mandal...  121.056475  14.585318   \n",
       "4  SM Megamall, Ortigas, Mandaluyong City, Mandal...  121.057508  14.584450   \n",
       "\n",
       "                           Cuisines  ...          Currency Has Table booking  \\\n",
       "0        French, Japanese, Desserts  ...  Botswana Pula(P)               Yes   \n",
       "1                          Japanese  ...  Botswana Pula(P)               Yes   \n",
       "2  Seafood, Asian, Filipino, Indian  ...  Botswana Pula(P)               Yes   \n",
       "3                   Japanese, Sushi  ...  Botswana Pula(P)                No   \n",
       "4                  Japanese, Korean  ...  Botswana Pula(P)               Yes   \n",
       "\n",
       "  Has Online delivery Is delivering now Switch to order menu Price range  \\\n",
       "0                  No                No                   No           3   \n",
       "1                  No                No                   No           3   \n",
       "2                  No                No                   No           4   \n",
       "3                  No                No                   No           4   \n",
       "4                  No                No                   No           4   \n",
       "\n",
       "   Aggregate rating  Rating color Rating text Votes  \n",
       "0               4.8    Dark Green   Excellent   314  \n",
       "1               4.5    Dark Green   Excellent   591  \n",
       "2               4.4         Green   Very Good   270  \n",
       "3               4.9    Dark Green   Excellent   365  \n",
       "4               4.8    Dark Green   Excellent   229  \n",
       "\n",
       "[5 rows x 21 columns]"
      ]
     },
     "metadata": {},
     "output_type": "display_data"
    }
   ],
   "source": [
    "import pandas as pd\n",
    "data=pd.read_csv(\"Dataset .csv\")\n",
    "display(data.head())"
   ]
  },
  {
   "cell_type": "markdown",
   "id": "1290edf0-4e74-4ca3-86ca-13df7830b0ca",
   "metadata": {},
   "source": [
    "**-->Level 1 : Task 1 (Top Cuisines)**"
   ]
  },
  {
   "cell_type": "markdown",
   "id": "981fd1a8-a819-441e-a8a8-79796584614d",
   "metadata": {},
   "source": [
    "**-->Determine the top three most \n",
    "common cuisines in the dataset**"
   ]
  },
  {
   "cell_type": "code",
   "execution_count": 22,
   "id": "3769589f-c980-4746-bbd5-643903944348",
   "metadata": {},
   "outputs": [
    {
     "data": {
      "text/plain": [
       "array(['French, Japanese, Desserts', 'Japanese',\n",
       "       'Seafood, Asian, Filipino, Indian', ..., 'Burger, Izgara',\n",
       "       'World Cuisine, Patisserie, Cafe', 'Italian, World Cuisine'],\n",
       "      dtype=object)"
      ]
     },
     "execution_count": 22,
     "metadata": {},
     "output_type": "execute_result"
    }
   ],
   "source": [
    "data['Cuisines'].unique()"
   ]
  },
  {
   "cell_type": "code",
   "execution_count": 23,
   "id": "b58417da-a355-4d32-bc2f-5d9dce53c8d2",
   "metadata": {},
   "outputs": [
    {
     "data": {
      "text/plain": [
       "9"
      ]
     },
     "execution_count": 23,
     "metadata": {},
     "output_type": "execute_result"
    }
   ],
   "source": [
    "sum(data['Cuisines'].isna())"
   ]
  },
  {
   "cell_type": "code",
   "execution_count": 24,
   "id": "15301a6e-424d-4f2a-8db7-0ec9c6258a48",
   "metadata": {},
   "outputs": [
    {
     "name": "stdout",
     "output_type": "stream",
     "text": [
      "Cuisines\n",
      "North Indian      3960\n",
      "Chinese           2735\n",
      "Fast Food         1986\n",
      "Mughlai            995\n",
      "Italian            764\n",
      "                  ... \n",
      "Fish and Chips       1\n",
      "Malwani              1\n",
      "Cuisine Varies       1\n",
      "Soul Food            1\n",
      "B�_rek               1\n",
      "Name: count, Length: 145, dtype: int64\n",
      "\n",
      "Top three cuisines are:\n",
      " Cuisines\n",
      "North Indian    3960\n",
      "Chinese         2735\n",
      "Fast Food       1986\n",
      "Name: count, dtype: int64\n"
     ]
    }
   ],
   "source": [
    "cuisines_count=data['Cuisines'].str.split(', ').explode().value_counts()\n",
    "print(cuisines_count)\n",
    "top_three_cuisines=cuisines_count.head(3)\n",
    "print('\\nTop three cuisines are:\\n',top_three_cuisines)"
   ]
  },
  {
   "cell_type": "markdown",
   "id": "4ccdb174-1645-4e9b-a0ca-58c22eabaa9a",
   "metadata": {},
   "source": [
    "**-->Calculate the percentage of\n",
    "restaurants that serve each of the top\n",
    "cuisines**"
   ]
  },
  {
   "cell_type": "code",
   "execution_count": 25,
   "id": "566d18e8-d9ee-4b27-8756-6fef746b5f8c",
   "metadata": {},
   "outputs": [
    {
     "name": "stdout",
     "output_type": "stream",
     "text": [
      "total number of restaurant:  9551\n"
     ]
    }
   ],
   "source": [
    "r=len(data['Restaurant Name'])\n",
    "print('total number of restaurant: ',r)"
   ]
  },
  {
   "cell_type": "code",
   "execution_count": 26,
   "id": "fb4ca9ad-0ab7-4aa7-a7c9-d0a96f67cb77",
   "metadata": {},
   "outputs": [
    {
     "name": "stdout",
     "output_type": "stream",
     "text": [
      "Cuisines\n",
      "North Indian    41.461627\n",
      "Chinese         28.635745\n",
      "Fast Food       20.793634\n",
      "Name: count, dtype: float64\n",
      "\n",
      " 41.461627054758665 % restaurants serve the North Indian cuisine,  28.635744948172963 % restaurants serve the Chinese cuisine and  20.793634174431997 % restaurants serve the Fast Food cuisine\n"
     ]
    }
   ],
   "source": [
    "restaurant_percentage=(top_three_cuisines/r)*100\n",
    "print(restaurant_percentage)\n",
    "print('\\n',restaurant_percentage.iloc[0],'% restaurants serve the North Indian cuisine, ',restaurant_percentage.iloc[1],'% restaurants serve the Chinese cuisine and ',restaurant_percentage.iloc[2],'% restaurants serve the Fast Food cuisine')"
   ]
  },
  {
   "cell_type": "markdown",
   "id": "477679f2-4de5-427c-878e-a07426411676",
   "metadata": {},
   "source": [
    "**-->Level 1 : Task 2 (City Analysis)**"
   ]
  },
  {
   "cell_type": "markdown",
   "id": "55aeaf92-7c38-4aeb-9edf-712708d2906e",
   "metadata": {},
   "source": [
    "**-->Identify the city with the highest number\n",
    "of restaurants in the dataset**"
   ]
  },
  {
   "cell_type": "code",
   "execution_count": 27,
   "id": "01c99038-efe5-4ddc-9cbf-ff4cddd614de",
   "metadata": {},
   "outputs": [
    {
     "data": {
      "text/plain": [
       "141"
      ]
     },
     "execution_count": 27,
     "metadata": {},
     "output_type": "execute_result"
    }
   ],
   "source": [
    "len(data['City'].unique())"
   ]
  },
  {
   "cell_type": "code",
   "execution_count": 28,
   "id": "c39a2f61-9ef8-4e45-8022-d4b6bd416180",
   "metadata": {},
   "outputs": [
    {
     "name": "stdout",
     "output_type": "stream",
     "text": [
      "City which has the highest number of restaurants: City\n",
      "New Delhi    5473\n",
      "Name: count, dtype: int64\n"
     ]
    }
   ],
   "source": [
    "c=data['City'].value_counts()\n",
    "c1=c.head(1)\n",
    "print('City which has the highest number of restaurants:',c1)"
   ]
  },
  {
   "cell_type": "markdown",
   "id": "d1083eef-5438-4897-abaa-8835936fcac4",
   "metadata": {},
   "source": [
    "**-->Calculate the average rating for\n",
    "restaurants in each city**"
   ]
  },
  {
   "cell_type": "code",
   "execution_count": 29,
   "id": "b70d1607-5313-4e4d-ad62-bd37f3eb6207",
   "metadata": {},
   "outputs": [
    {
     "name": "stdout",
     "output_type": "stream",
     "text": [
      "City\n",
      "Abu Dhabi          4.300000\n",
      "Agra               3.965000\n",
      "Ahmedabad          4.161905\n",
      "Albany             3.555000\n",
      "Allahabad          3.395000\n",
      "                     ...   \n",
      "Weirton            3.900000\n",
      "Wellington City    4.250000\n",
      "Winchester Bay     3.200000\n",
      "Yorkton            3.300000\n",
      "��stanbul          4.292857\n",
      "Name: Aggregate rating, Length: 141, dtype: float64\n"
     ]
    }
   ],
   "source": [
    "avg_rating=data['Aggregate rating'].groupby(data['City']).mean()\n",
    "print(avg_rating)"
   ]
  },
  {
   "cell_type": "markdown",
   "id": "8ea5c4b8-be34-4ca7-955b-4d682f136c0f",
   "metadata": {},
   "source": [
    "**-->Determine the city with the highest\n",
    "average rating**"
   ]
  },
  {
   "cell_type": "code",
   "execution_count": 30,
   "id": "1f8fd010-cac6-4154-b63a-2a7b8cdc3e7a",
   "metadata": {},
   "outputs": [
    {
     "name": "stdout",
     "output_type": "stream",
     "text": [
      "City with the highest average rating: City\n",
      "Abu Dhabi    4.3\n",
      "Name: Aggregate rating, dtype: float64\n"
     ]
    }
   ],
   "source": [
    "print('City with the highest average rating:',avg_rating.head(1))"
   ]
  },
  {
   "cell_type": "markdown",
   "id": "faae8e72-0bce-42d9-ac15-c99f65547e82",
   "metadata": {},
   "source": [
    "**-->Level 1 : Task 3 (Price Range Distribution)**"
   ]
  },
  {
   "cell_type": "markdown",
   "id": "b5e3f66f-186f-433f-ab09-3fcaf5445733",
   "metadata": {},
   "source": [
    "**-->Create a histogram or bar chart to\n",
    "visualize the distribution of price ranges\n",
    "among the restaurants.**"
   ]
  },
  {
   "cell_type": "code",
   "execution_count": 31,
   "id": "6678ee3e-14f0-4c6d-9f81-bddea53f7205",
   "metadata": {},
   "outputs": [
    {
     "data": {
      "image/png": "[encoded data removed]",
      "text/plain": [
       "<Figure size 640x480 with 1 Axes>"
      ]
     },
     "metadata": {},
     "output_type": "display_data"
    }
   ],
   "source": [
    "import matplotlib.pyplot as plt\n",
    "plt.hist(data['Price range'],color='pink')\n",
    "plt.xlabel('Price Range')\n",
    "plt.ylabel('Count of price range')\n",
    "plt.show()"
   ]
  },
  {
   "cell_type": "markdown",
   "id": "40d854a2-b7d4-4986-bf50-29b4f955d1df",
   "metadata": {},
   "source": [
    "**-->Calculate the percentage of restaurants\n",
    "in each price range category**"
   ]
  },
  {
   "cell_type": "code",
   "execution_count": 32,
   "id": "585b73ef-08d2-4646-b511-e4003a31c455",
   "metadata": {},
   "outputs": [
    {
     "name": "stdout",
     "output_type": "stream",
     "text": [
      "percentage of restaurants in each price range category:\n",
      " Price range\n",
      "1    46.529159\n",
      "2    32.593446\n",
      "3    14.741912\n",
      "4     6.135483\n",
      "Name: count, dtype: float64\n"
     ]
    }
   ],
   "source": [
    "r=len(data['Restaurant Name'])\n",
    "p=data['Price range'].value_counts()\n",
    "percentage_restaurant=(p/r)*100\n",
    "print('percentage of restaurants in each price range category:\\n',percentage_restaurant)"
   ]
  },
  {
   "cell_type": "markdown",
   "id": "530ec877-f45e-415f-90d8-3f16817dd543",
   "metadata": {},
   "source": [
    "**-->Level 1 : Task 4 (Online Delivery)**"
   ]
  },
  {
   "cell_type": "markdown",
   "id": "6c24433b-8289-4316-a12b-e62ed2f6b7fc",
   "metadata": {},
   "source": [
    "**-->Determine the percentage of restaurants\n",
    "that offer online delivery.**"
   ]
  },
  {
   "cell_type": "code",
   "execution_count": 33,
   "id": "d88fd599-0b04-46c2-8ed3-cfe68434c42d",
   "metadata": {},
   "outputs": [
    {
     "name": "stdout",
     "output_type": "stream",
     "text": [
      "Has Online delivery\n",
      "No     7100\n",
      "Yes    2451\n",
      "Name: count, dtype: int64\n",
      "\n",
      " Has Online delivery\n",
      "No     74.337766\n",
      "Yes    25.662234\n",
      "Name: count, dtype: float64\n",
      "\n",
      "percentage of restaurants that offer online delivery: 25.662234321013504\n"
     ]
    }
   ],
   "source": [
    "r=len(data['Restaurant Name'])\n",
    "x=data['Has Online delivery'].value_counts()\n",
    "print(x)\n",
    "percentage_restaurant=(x/r)*100\n",
    "print('\\n',percentage_restaurant)\n",
    "print('\\npercentage of restaurants that offer online delivery:',percentage_restaurant.iloc[1])"
   ]
  },
  {
   "cell_type": "markdown",
   "id": "6b49d747-155b-4178-b7e0-51f3549bc238",
   "metadata": {},
   "source": [
    "**-->Compare the average ratings of restaurants\n",
    "with and without online delivery.**"
   ]
  },
  {
   "cell_type": "code",
   "execution_count": 34,
   "id": "c792c58b-92ad-45cf-b5a8-fe44474ac219",
   "metadata": {},
   "outputs": [
    {
     "name": "stdout",
     "output_type": "stream",
     "text": [
      "Has Online delivery\n",
      "No     2.465296\n",
      "Yes    3.248837\n",
      "Name: Aggregate rating, dtype: float64\n",
      "\n",
      "Average ratings of restaurants with online delivery is 3.2488372093023252  and without online delivery is 2.465295774647887\n"
     ]
    }
   ],
   "source": [
    "avg_rating=data['Aggregate rating'].groupby(data['Has Online delivery']).mean()\n",
    "print(avg_rating)\n",
    "print('\\nAverage ratings of restaurants with online delivery is',avg_rating.iloc[1],' and without online delivery is',avg_rating.iloc[0])"
   ]
  },
  {
   "cell_type": "markdown",
   "id": "ffcb6591-e3cb-4526-a4bc-f468fa86e3aa",
   "metadata": {},
   "source": [
    "**-->Level 2 : Task 1 (Restaurant Ratings)**"
   ]
  },
  {
   "cell_type": "markdown",
   "id": "50661452-f3bb-4d79-9258-c1cc3f8f48b5",
   "metadata": {},
   "source": [
    "**-->Analyze the distribution of aggregate\n",
    "ratings and determine the most common\n",
    "rating range**"
   ]
  },
  {
   "cell_type": "code",
   "execution_count": 35,
   "id": "af1a1f61-2493-4b60-8ea9-3accc4782beb",
   "metadata": {},
   "outputs": [
    {
     "data": {
      "image/png": "[encoded data removed]",
      "text/plain": [
       "<Figure size 640x480 with 1 Axes>"
      ]
     },
     "metadata": {},
     "output_type": "display_data"
    },
    {
     "name": "stdout",
     "output_type": "stream",
     "text": [
      "The most common rating range is 0.0 with 2148 restaurants.\n"
     ]
    }
   ],
   "source": [
    "import matplotlib.pyplot as plt\n",
    "p=data['Aggregate rating'].value_counts().sort_index()\n",
    "plt.hist(data['Aggregate rating'],color='blue')\n",
    "plt.xlabel('Rating')\n",
    "plt.ylabel('Count of restaurant')\n",
    "plt.show()\n",
    "most_common_rating_range = p.idxmax()\n",
    "most_common_rating_count = p.max()\n",
    "print(f'The most common rating range is {most_common_rating_range} with {most_common_rating_count} restaurants.')"
   ]
  },
  {
   "cell_type": "markdown",
   "id": "cb17a63a-7425-40c1-92fd-404323ed85b2",
   "metadata": {},
   "source": [
    "**-->Calculate the average number of votes\n",
    "received by restaurants**"
   ]
  },
  {
   "cell_type": "code",
   "execution_count": 36,
   "id": "883e5927-5588-469f-a9f3-e9bab2ae5b81",
   "metadata": {},
   "outputs": [
    {
     "name": "stdout",
     "output_type": "stream",
     "text": [
      "Average number of votes received by restaurants: 156.909747670401\n"
     ]
    }
   ],
   "source": [
    "avg_votes=data['Votes'].mean()\n",
    "print('Average number of votes received by restaurants:',avg_votes)"
   ]
  },
  {
   "cell_type": "markdown",
   "id": "483c7442-8655-4108-a7e0-f6025ad2340c",
   "metadata": {},
   "source": [
    "**-->Level 2 : Task 2 (Cuisine Combination)**"
   ]
  },
  {
   "cell_type": "markdown",
   "id": "2f5786bc-d826-4dc2-bb0c-0744eb32882c",
   "metadata": {},
   "source": [
    "**-->Identify the most common combinations of\n",
    "cuisines in the dataset.**"
   ]
  },
  {
   "cell_type": "code",
   "execution_count": 37,
   "id": "30c6843b-f5db-4536-8b6d-93ba7c59565a",
   "metadata": {},
   "outputs": [
    {
     "name": "stdout",
     "output_type": "stream",
     "text": [
      "Top common combinations of cuisines: Cuisines\n",
      "North Indian             936\n",
      "North Indian, Chinese    511\n",
      "Chinese                  354\n",
      "Name: count, dtype: int64\n"
     ]
    }
   ],
   "source": [
    "c=data['Cuisines'].value_counts()\n",
    "print('Top common combinations of cuisines:',c.head(3))"
   ]
  },
  {
   "cell_type": "markdown",
   "id": "79b7fa94-7c87-4a63-8260-ff67e82bf8f4",
   "metadata": {},
   "source": [
    "**-->Determine if certain cuisine combinations\n",
    "tend to have higher ratings.**"
   ]
  },
  {
   "cell_type": "code",
   "execution_count": 38,
   "id": "a5adc6bd-8a77-4938-8569-3970e66dd65f",
   "metadata": {},
   "outputs": [
    {
     "name": "stdout",
     "output_type": "stream",
     "text": [
      "American, BBQ, Sandwich cuisines Combination has highest rating which is 4.9.\n"
     ]
    }
   ],
   "source": [
    "higher_rating=data['Aggregate rating'].groupby(data['Cuisines']).max()\n",
    "print(f'{higher_rating.idxmax()} cuisines Combination has highest rating which is {higher_rating.max()}.')"
   ]
  },
  {
   "cell_type": "markdown",
   "id": "721925b4-f030-42f4-9e00-5decd0803ebb",
   "metadata": {},
   "source": [
    "**-->Level 2 : Task 3 (Geographic Analysis)**"
   ]
  },
  {
   "cell_type": "markdown",
   "id": "9f0c3a95-3b74-4d29-8050-2e91378c0e3d",
   "metadata": {},
   "source": [
    "**-->Plot the locations of restaurants on a\n",
    "map using longitude and latitude\n",
    "coordinates.**"
   ]
  },
  {
   "cell_type": "code",
   "execution_count": 39,
   "id": "a86ae935-fa48-4f31-b2a8-858e6410b4a9",
   "metadata": {},
   "outputs": [
    {
     "data": {
      "image/png": "[encoded data removed]",
      "text/plain": [
       "<Figure size 640x480 with 1 Axes>"
      ]
     },
     "metadata": {},
     "output_type": "display_data"
    }
   ],
   "source": [
    "import matplotlib.pyplot as plt\n",
    "plt.scatter(x=data['Longitude'],y=data['Latitude'],color='green')\n",
    "plt.xlabel('Longitude')\n",
    "plt.ylabel('Latitude')\n",
    "plt.show()"
   ]
  },
  {
   "cell_type": "markdown",
   "id": "93e79323-a64d-45ed-ac4f-a52479ff5edd",
   "metadata": {},
   "source": [
    "**-->Identify any patterns or clusters of\n",
    "restaurants in specific areas.**"
   ]
  },
  {
   "cell_type": "code",
   "execution_count": 40,
   "id": "a9224dd3-e208-46d3-9ef0-b50e727f7807",
   "metadata": {},
   "outputs": [
    {
     "name": "stderr",
     "output_type": "stream",
     "text": [
      "C:\\ProgramData\\anaconda3\\Lib\\site-packages\\sklearn\\cluster\\_kmeans.py:870: FutureWarning: The default value of `n_init` will change from 10 to 'auto' in 1.4. Set the value of `n_init` explicitly to suppress the warning\n",
      "  warnings.warn(\n"
     ]
    },
    {
     "data": {
      "image/png": "[encoded data removed]",
      "text/plain": [
       "<Figure size 640x480 with 1 Axes>"
      ]
     },
     "metadata": {},
     "output_type": "display_data"
    }
   ],
   "source": [
    "from sklearn.cluster import KMeans\n",
    "coordinates = data[['Latitude', 'Longitude']]\n",
    "kmeans = KMeans(n_clusters=5, random_state=0).fit(coordinates)\n",
    "data['Cluster'] = kmeans.labels_\n",
    "plt.scatter(coordinates['Longitude'], coordinates['Latitude'], c=data['Cluster'], marker='o')\n",
    "plt.title('Restaurant Clusters')\n",
    "plt.xlabel('Longitude')\n",
    "plt.ylabel('Latitude')\n",
    "plt.show()"
   ]
  },
  {
   "cell_type": "markdown",
   "id": "64382ff2-642c-4647-8b81-38daf554b7ea",
   "metadata": {},
   "source": [
    "**-->Level 2 : Task 4 (Restaurant Chains)**"
   ]
  },
  {
   "cell_type": "markdown",
   "id": "a2c194d9-0f5d-416a-bfeb-f92f3e50979e",
   "metadata": {},
   "source": [
    "**-->Identify if there are any restaurant chains\n",
    "present in the dataset.**"
   ]
  },
  {
   "cell_type": "code",
   "execution_count": 41,
   "id": "4044fe45-beea-4c39-9060-6bb831605c75",
   "metadata": {},
   "outputs": [
    {
     "name": "stdout",
     "output_type": "stream",
     "text": [
      "Restaurant chains: Restaurant Name\n",
      "Cafe Coffee Day       83\n",
      "Domino's Pizza        79\n",
      "Subway                63\n",
      "Green Chick Chop      51\n",
      "McDonald's            48\n",
      "                      ..\n",
      "Town Hall              2\n",
      "Halki Aanch            2\n",
      "Snack Junction         2\n",
      "Delhi Biryani Hut      2\n",
      "Beliram Degchiwala     2\n",
      "Name: count, Length: 734, dtype: int64\n"
     ]
    }
   ],
   "source": [
    "restaurant_count=data['Restaurant Name'].value_counts()\n",
    "restaurant_chain=restaurant_count[restaurant_count>1]\n",
    "print('Restaurant chains:',restaurant_chain)"
   ]
  },
  {
   "cell_type": "markdown",
   "id": "a6eebb2c-5893-435b-959e-417b7898638c",
   "metadata": {},
   "source": [
    "**-->Analyze the ratings and popularity of\n",
    "different restaurant chains.**"
   ]
  },
  {
   "cell_type": "code",
   "execution_count": 42,
   "id": "7126f0d5-ad4d-44c9-8e76-1cd79eadf8da",
   "metadata": {},
   "outputs": [
    {
     "name": "stdout",
     "output_type": "stream",
     "text": [
      "               Restaurant Name  Aggregate rating  Votes\n",
      "629           Talaga Sampireun             4.900   5514\n",
      "8      AB's Absolute Barbecues             4.850   3151\n",
      "589           Silantro Fil-Mex             4.850   1364\n",
      "7    AB's - Absolute Barbecues             4.825  13400\n",
      "449         Naturals Ice Cream             4.800   3094\n",
      "..                         ...               ...    ...\n",
      "440           Murliwala Bakers             0.000      0\n",
      "538        Rajdhani Restaurant             0.000      0\n",
      "616                Street Cafe             0.000      0\n",
      "645              The Big Scoop             0.000      0\n",
      "713               Whatslife.in             0.000      0\n",
      "\n",
      "[734 rows x 3 columns]\n"
     ]
    }
   ],
   "source": [
    "chains_df = data[data['Restaurant Name'].isin(restaurant_chain.index)]\n",
    "chain_analysis = chains_df.groupby('Restaurant Name').agg({'Aggregate rating': 'mean','Votes': 'sum'}).reset_index()\n",
    "chain_analysis = chain_analysis.sort_values(by=['Aggregate rating', 'Votes'], ascending=[False, False])\n",
    "print(chain_analysis)"
   ]
  },
  {
   "cell_type": "markdown",
   "id": "2e95f746-c765-4a16-9fec-9097a4af8dc0",
   "metadata": {},
   "source": [
    "**-->Level 3 : Task 1 (Restaurant Reviews)**"
   ]
  },
  {
   "cell_type": "markdown",
   "id": "ac1b765f-6c38-4b7c-8d96-8adff631d4b9",
   "metadata": {},
   "source": [
    "**-->Analyze the text reviews to identify the most\n",
    "common positive and negative keywords.**"
   ]
  },
  {
   "cell_type": "code",
   "execution_count": 43,
   "id": "9f590964-1298-4e5d-a651-e22448f29ab1",
   "metadata": {},
   "outputs": [
    {
     "data": {
      "text/plain": [
       "Rating text\n",
       "Average      3737\n",
       "Not rated    2148\n",
       "Good         2100\n",
       "Very Good    1079\n",
       "Excellent     301\n",
       "Poor          186\n",
       "Name: count, dtype: int64"
      ]
     },
     "execution_count": 43,
     "metadata": {},
     "output_type": "execute_result"
    }
   ],
   "source": [
    "data['Rating text'].value_counts()"
   ]
  },
  {
   "cell_type": "code",
   "execution_count": 44,
   "id": "beb24c14-37c6-41f8-8bfa-ac8c2949c79b",
   "metadata": {},
   "outputs": [
    {
     "name": "stdout",
     "output_type": "stream",
     "text": [
      "Defaulting to user installation because normal site-packages is not writeableNote: you may need to restart the kernel to use updated packages.\n",
      "\n",
      "Requirement already satisfied: textblob in c:\\users\\hp\\appdata\\roaming\\python\\python311\\site-packages (0.18.0.post0)\n",
      "Requirement already satisfied: nltk>=3.8 in c:\\programdata\\anaconda3\\lib\\site-packages (from textblob) (3.8.1)\n",
      "Requirement already satisfied: click in c:\\programdata\\anaconda3\\lib\\site-packages (from nltk>=3.8->textblob) (8.1.7)\n",
      "Requirement already satisfied: joblib in c:\\programdata\\anaconda3\\lib\\site-packages (from nltk>=3.8->textblob) (1.2.0)\n",
      "Requirement already satisfied: regex>=2021.8.3 in c:\\programdata\\anaconda3\\lib\\site-packages (from nltk>=3.8->textblob) (2023.10.3)\n",
      "Requirement already satisfied: tqdm in c:\\programdata\\anaconda3\\lib\\site-packages (from nltk>=3.8->textblob) (4.65.0)\n",
      "Requirement already satisfied: colorama in c:\\programdata\\anaconda3\\lib\\site-packages (from click->nltk>=3.8->textblob) (0.4.6)\n"
     ]
    }
   ],
   "source": [
    "pip install textblob"
   ]
  },
  {
   "cell_type": "code",
   "execution_count": 45,
   "id": "6e583b72-de29-4f1e-a3c7-85b1569a7abe",
   "metadata": {},
   "outputs": [
    {
     "name": "stdout",
     "output_type": "stream",
     "text": [
      "Top 5 Positive Keywords:\n",
      "good: 3179\n",
      "excellent: 301\n",
      "\n",
      "Top 5 Negative Keywords:\n",
      "average: 3737\n",
      "poor: 186\n"
     ]
    }
   ],
   "source": [
    "import re\n",
    "from nltk.corpus import stopwords\n",
    "from textblob import TextBlob\n",
    "from collections import Counter\n",
    "import nltk\n",
    "\n",
    "# nltk.download('stopwords')\n",
    "\n",
    "def clean_text(text):\n",
    "    text = re.sub(r'[^\\w\\s]', '', text) \n",
    "    text = text.lower()  \n",
    "    text = text.split()  \n",
    "    text = [word for word in text if word not in stopwords.words('english')]\n",
    "    return ' '.join(text)\n",
    "\n",
    "data['Cleaned Reviews'] = data['Rating text'].astype(str).apply(clean_text)\n",
    "\n",
    "def classify_sentiment(text):\n",
    "    analysis = TextBlob(text)\n",
    "    return 'positive' if analysis.sentiment.polarity > 0 else 'negative' if analysis.sentiment.polarity < 0 else 'neutral'\n",
    "\n",
    "data['Sentiment'] = data['Cleaned Reviews'].apply(classify_sentiment)\n",
    "\n",
    "positive_reviews = ' '.join(data[data['Sentiment'] == 'positive']['Cleaned Reviews'])\n",
    "negative_reviews = ' '.join(data[data['Sentiment'] == 'negative']['Cleaned Reviews'])\n",
    "\n",
    "positive_words = Counter(positive_reviews.split())\n",
    "negative_words = Counter(negative_reviews.split())\n",
    "\n",
    "top_positive_words = positive_words.most_common(5)\n",
    "top_negative_words = negative_words.most_common(5)\n",
    "\n",
    "print(\"Top 5 Positive Keywords:\")\n",
    "for word, freq in top_positive_words:\n",
    "    print(f\"{word}: {freq}\")\n",
    "\n",
    "print(\"\\nTop 5 Negative Keywords:\")\n",
    "for word, freq in top_negative_words:\n",
    "    print(f\"{word}: {freq}\")"
   ]
  },
  {
   "cell_type": "markdown",
   "id": "8c2bc0a8-9b9a-4df7-9799-d8f16a19d029",
   "metadata": {},
   "source": [
    "**-->Calculate the average length of reviews and\n",
    "explore if there is a relationship between\n",
    "review length and rating**"
   ]
  },
  {
   "cell_type": "code",
   "execution_count": 46,
   "id": "1ab7fe36-7338-4ce7-82f2-5a3ede0fc658",
   "metadata": {},
   "outputs": [
    {
     "name": "stdout",
     "output_type": "stream",
     "text": [
      "Average length of review: 7.020730813527379\n",
      "Relationship between review length and rating: -0.4788848381349332\n"
     ]
    }
   ],
   "source": [
    "data['Rating length']=data['Rating text'].astype(str).apply(len)\n",
    "avg_length=data['Rating length'].mean()\n",
    "print('Average length of review:',avg_length)\n",
    "correlation = data[['Rating length', 'Aggregate rating']].corr().iloc[0,1]\n",
    "print('Relationship between review length and rating:',correlation)"
   ]
  },
  {
   "cell_type": "markdown",
   "id": "3add2118-15c3-4f8c-a727-8fd945ed64b5",
   "metadata": {},
   "source": [
    "**-->Level 3 : Task 2 (Votes Analysis)**"
   ]
  },
  {
   "cell_type": "markdown",
   "id": "07fcdd69-c3ce-4b2e-9e50-6abe77957498",
   "metadata": {},
   "source": [
    "**-->Identify the restaurants with the highest and\n",
    "lowest number of votes.**"
   ]
  },
  {
   "cell_type": "code",
   "execution_count": 47,
   "id": "14955868-9ce0-4fdf-9d29-ada814587f9e",
   "metadata": {},
   "outputs": [
    {
     "name": "stdout",
     "output_type": "stream",
     "text": [
      "Restaurants with the highest Votes is Toit\n",
      "Restaurants with the lowest Votes is Cantinho da Gula\n"
     ]
    }
   ],
   "source": [
    "i1=data['Votes'].idxmax()\n",
    "i2=data['Votes'].idxmin()\n",
    "print('Restaurants with the highest Votes is',data['Restaurant Name'].iloc[i1])\n",
    "print('Restaurants with the lowest Votes is',data['Restaurant Name'].iloc[i2])"
   ]
  },
  {
   "cell_type": "markdown",
   "id": "8554d500-68c6-467a-9c09-dafc099a0ecb",
   "metadata": {},
   "source": [
    "**-->Analyze if there is a correlation between the\n",
    "number of votes and the rating of a\n",
    "restaurant.**"
   ]
  },
  {
   "cell_type": "code",
   "execution_count": 48,
   "id": "0e44ab3f-1340-414c-adf9-8507b66343ce",
   "metadata": {},
   "outputs": [
    {
     "name": "stdout",
     "output_type": "stream",
     "text": [
      "Relationship between Rating and Votes: 0.3136905841954099\n"
     ]
    }
   ],
   "source": [
    "correlation = data[['Aggregate rating', 'Votes']].corr().iloc[0,1]\n",
    "print('Relationship between Rating and Votes:',correlation)"
   ]
  },
  {
   "cell_type": "markdown",
   "id": "2e302646-9ea6-4eac-98a2-ed47997bea39",
   "metadata": {},
   "source": [
    "**-->Level 3 : Task 3 (Votes Analysis)**"
   ]
  },
  {
   "cell_type": "markdown",
   "id": "a77da4fa-aa7a-4d8e-8865-d5da00816ee4",
   "metadata": {},
   "source": [
    "**-->Analyze if there is a relationship between the\n",
    "price range and the availability of online\n",
    "delivery and table booking.**"
   ]
  },
  {
   "cell_type": "code",
   "execution_count": 49,
   "id": "48f08e89-8e9d-40f6-b0f9-0b477dd8eae6",
   "metadata": {},
   "outputs": [
    {
     "name": "stdout",
     "output_type": "stream",
     "text": [
      "Relationship between the price range and the availability of online delivery and table booking:\n",
      "                      Price range  Has Online delivery  Has Table booking\n",
      "Price range             1.000000             0.077918           0.501925\n",
      "Has Online delivery     0.077918             1.000000           0.101224\n",
      "Has Table booking       0.501925             0.101224           1.000000\n"
     ]
    }
   ],
   "source": [
    "from sklearn import preprocessing \n",
    "label_encoder = preprocessing.LabelEncoder() \n",
    "data['Has Online delivery'] = label_encoder.fit_transform(data['Has Online delivery'])\n",
    "data['Has Table booking'] = label_encoder.fit_transform(data['Has Table booking'])\n",
    "correlation = data[['Price range','Has Online delivery', 'Has Table booking']].corr()\n",
    "print('Relationship between the price range and the availability of online delivery and table booking:\\n',correlation)"
   ]
  },
  {
   "cell_type": "markdown",
   "id": "087430e8-c3a7-433a-a611-eefa055a4728",
   "metadata": {},
   "source": [
    "**-->Determine if higher-priced restaurants are\n",
    "more likely to offer these services.**"
   ]
  },
  {
   "cell_type": "code",
   "execution_count": 50,
   "id": "beab8e3e-3422-48a4-ad48-b542e5c49e34",
   "metadata": {},
   "outputs": [
    {
     "name": "stdout",
     "output_type": "stream",
     "text": [
      "\n",
      "Online service provider:\n",
      " Price range\n",
      "1    15.774077\n",
      "2    41.310633\n",
      "3    29.190341\n",
      "4     9.044369\n",
      "Name: Has Online delivery, dtype: float64\n",
      "\n",
      "Table booking service provider:\n",
      " Price range\n",
      "1     0.022502\n",
      "2     7.677482\n",
      "3    45.738636\n",
      "4    46.757679\n",
      "Name: Has Table booking, dtype: float64\n"
     ]
    }
   ],
   "source": [
    "online_delivery_proportions = data.groupby('Price range')['Has Online delivery'].mean() * 100\n",
    "table_booking_proportions = data.groupby('Price range')['Has Table booking'].mean() * 100\n",
    "print('\\nOnline service provider:\\n',online_delivery_proportions)\n",
    "print('\\nTable booking service provider:\\n',table_booking_proportions)"
   ]
  },
  {
   "cell_type": "code",
   "execution_count": 51,
   "id": "66aa1895-27f2-4810-8fa2-25bfad01d163",
   "metadata": {},
   "outputs": [],
   "source": [
    "data.to_csv(\"Final_Restaurant_data.csv\")"
   ]
  }
 ],
 "metadata": {
  "kernelspec": {
   "display_name": "Python 3 (ipykernel)",
   "language": "python",
   "name": "python3"
  },
  "language_info": {
   "codemirror_mode": {
    "name": "ipython",
    "version": 3
   },
   "file_extension": ".py",
   "mimetype": "text/x-python",
   "name": "python",
   "nbconvert_exporter": "python",
   "pygments_lexer": "ipython3",
   "version": "3.11.7"
  }
 },
 "nbformat": 4,
 "nbformat_minor": 5
}
